{
 "cells": [
  {
   "cell_type": "markdown",
   "id": "170c766e-966e-4dd2-bf4e-4c182e342f4d",
   "metadata": {},
   "source": [
    "# Raisin 데이터로 분류하기"
   ]
  },
  {
   "cell_type": "markdown",
   "id": "aba25de5-2231-4c40-875a-f88f8044b144",
   "metadata": {},
   "source": [
    "## 1. 머신러닝 분류"
   ]
  },
  {
   "cell_type": "markdown",
   "id": "12e51477-5523-4fe3-985e-d91f23eadf1a",
   "metadata": {},
   "source": [
    "### (1). 데이터 불러오기"
   ]
  },
  {
   "cell_type": "code",
   "execution_count": 1,
   "id": "323cfb8a-a53b-492a-913a-5caac053425f",
   "metadata": {},
   "outputs": [
    {
     "data": {
      "text/html": [
       "<div>\n",
       "<style scoped>\n",
       "    .dataframe tbody tr th:only-of-type {\n",
       "        vertical-align: middle;\n",
       "    }\n",
       "\n",
       "    .dataframe tbody tr th {\n",
       "        vertical-align: top;\n",
       "    }\n",
       "\n",
       "    .dataframe thead th {\n",
       "        text-align: right;\n",
       "    }\n",
       "</style>\n",
       "<table border=\"1\" class=\"dataframe\">\n",
       "  <thead>\n",
       "    <tr style=\"text-align: right;\">\n",
       "      <th></th>\n",
       "      <th>MajorAxisLength</th>\n",
       "      <th>MinorAxisLength</th>\n",
       "      <th>Eccentricity</th>\n",
       "      <th>ConvexArea</th>\n",
       "      <th>Extent</th>\n",
       "      <th>Perimeter</th>\n",
       "      <th>Class</th>\n",
       "    </tr>\n",
       "    <tr>\n",
       "      <th>Area</th>\n",
       "      <th></th>\n",
       "      <th></th>\n",
       "      <th></th>\n",
       "      <th></th>\n",
       "      <th></th>\n",
       "      <th></th>\n",
       "      <th></th>\n",
       "    </tr>\n",
       "  </thead>\n",
       "  <tbody>\n",
       "    <tr>\n",
       "      <th>87524</th>\n",
       "      <td>442.246011</td>\n",
       "      <td>253.291155</td>\n",
       "      <td>0.819738</td>\n",
       "      <td>90546</td>\n",
       "      <td>0.758651</td>\n",
       "      <td>1184.040</td>\n",
       "      <td>Kecimen</td>\n",
       "    </tr>\n",
       "    <tr>\n",
       "      <th>75166</th>\n",
       "      <td>406.690687</td>\n",
       "      <td>243.032436</td>\n",
       "      <td>0.801805</td>\n",
       "      <td>78789</td>\n",
       "      <td>0.684130</td>\n",
       "      <td>1121.786</td>\n",
       "      <td>Kecimen</td>\n",
       "    </tr>\n",
       "    <tr>\n",
       "      <th>90856</th>\n",
       "      <td>442.267048</td>\n",
       "      <td>266.328318</td>\n",
       "      <td>0.798354</td>\n",
       "      <td>93717</td>\n",
       "      <td>0.637613</td>\n",
       "      <td>1208.575</td>\n",
       "      <td>Kecimen</td>\n",
       "    </tr>\n",
       "    <tr>\n",
       "      <th>45928</th>\n",
       "      <td>286.540559</td>\n",
       "      <td>208.760042</td>\n",
       "      <td>0.684989</td>\n",
       "      <td>47336</td>\n",
       "      <td>0.699599</td>\n",
       "      <td>844.162</td>\n",
       "      <td>Kecimen</td>\n",
       "    </tr>\n",
       "    <tr>\n",
       "      <th>79408</th>\n",
       "      <td>352.190770</td>\n",
       "      <td>290.827533</td>\n",
       "      <td>0.564011</td>\n",
       "      <td>81463</td>\n",
       "      <td>0.792772</td>\n",
       "      <td>1073.251</td>\n",
       "      <td>Kecimen</td>\n",
       "    </tr>\n",
       "    <tr>\n",
       "      <th>...</th>\n",
       "      <td>...</td>\n",
       "      <td>...</td>\n",
       "      <td>...</td>\n",
       "      <td>...</td>\n",
       "      <td>...</td>\n",
       "      <td>...</td>\n",
       "      <td>...</td>\n",
       "    </tr>\n",
       "    <tr>\n",
       "      <th>83248</th>\n",
       "      <td>430.077308</td>\n",
       "      <td>247.838695</td>\n",
       "      <td>0.817263</td>\n",
       "      <td>85839</td>\n",
       "      <td>0.668793</td>\n",
       "      <td>1129.072</td>\n",
       "      <td>Besni</td>\n",
       "    </tr>\n",
       "    <tr>\n",
       "      <th>87350</th>\n",
       "      <td>440.735698</td>\n",
       "      <td>259.293149</td>\n",
       "      <td>0.808629</td>\n",
       "      <td>90899</td>\n",
       "      <td>0.636476</td>\n",
       "      <td>1214.252</td>\n",
       "      <td>Besni</td>\n",
       "    </tr>\n",
       "    <tr>\n",
       "      <th>99657</th>\n",
       "      <td>431.706981</td>\n",
       "      <td>298.837323</td>\n",
       "      <td>0.721684</td>\n",
       "      <td>106264</td>\n",
       "      <td>0.741099</td>\n",
       "      <td>1292.828</td>\n",
       "      <td>Besni</td>\n",
       "    </tr>\n",
       "    <tr>\n",
       "      <th>93523</th>\n",
       "      <td>476.344094</td>\n",
       "      <td>254.176054</td>\n",
       "      <td>0.845739</td>\n",
       "      <td>97653</td>\n",
       "      <td>0.658798</td>\n",
       "      <td>1258.548</td>\n",
       "      <td>Besni</td>\n",
       "    </tr>\n",
       "    <tr>\n",
       "      <th>85609</th>\n",
       "      <td>512.081774</td>\n",
       "      <td>215.271976</td>\n",
       "      <td>0.907345</td>\n",
       "      <td>89197</td>\n",
       "      <td>0.632020</td>\n",
       "      <td>1272.862</td>\n",
       "      <td>Besni</td>\n",
       "    </tr>\n",
       "  </tbody>\n",
       "</table>\n",
       "<p>900 rows × 7 columns</p>\n",
       "</div>"
      ],
      "text/plain": [
       "       MajorAxisLength  MinorAxisLength  Eccentricity  ConvexArea    Extent  \\\n",
       "Area                                                                          \n",
       "87524       442.246011       253.291155      0.819738       90546  0.758651   \n",
       "75166       406.690687       243.032436      0.801805       78789  0.684130   \n",
       "90856       442.267048       266.328318      0.798354       93717  0.637613   \n",
       "45928       286.540559       208.760042      0.684989       47336  0.699599   \n",
       "79408       352.190770       290.827533      0.564011       81463  0.792772   \n",
       "...                ...              ...           ...         ...       ...   \n",
       "83248       430.077308       247.838695      0.817263       85839  0.668793   \n",
       "87350       440.735698       259.293149      0.808629       90899  0.636476   \n",
       "99657       431.706981       298.837323      0.721684      106264  0.741099   \n",
       "93523       476.344094       254.176054      0.845739       97653  0.658798   \n",
       "85609       512.081774       215.271976      0.907345       89197  0.632020   \n",
       "\n",
       "       Perimeter    Class  \n",
       "Area                       \n",
       "87524   1184.040  Kecimen  \n",
       "75166   1121.786  Kecimen  \n",
       "90856   1208.575  Kecimen  \n",
       "45928    844.162  Kecimen  \n",
       "79408   1073.251  Kecimen  \n",
       "...          ...      ...  \n",
       "83248   1129.072    Besni  \n",
       "87350   1214.252    Besni  \n",
       "99657   1292.828    Besni  \n",
       "93523   1258.548    Besni  \n",
       "85609   1272.862    Besni  \n",
       "\n",
       "[900 rows x 7 columns]"
      ]
     },
     "execution_count": 1,
     "metadata": {},
     "output_type": "execute_result"
    }
   ],
   "source": [
    "import numpy as np\n",
    "import pandas as pd\n",
    "\n",
    "df = pd.read_excel(\"C:/dataset/Raisin_Dataset.xlsx\", index_col=0)\n",
    "df"
   ]
  },
  {
   "cell_type": "markdown",
   "id": "061f5c05-1f9d-442e-b6c2-a67e42a4de08",
   "metadata": {},
   "source": [
    "### (2). feature, target 데이터 분리하기"
   ]
  },
  {
   "cell_type": "code",
   "execution_count": 2,
   "id": "c6d99a06-6eca-4872-b8b1-2e5dd7a4e155",
   "metadata": {},
   "outputs": [],
   "source": [
    "X=df.drop('Class',axis=1)\n",
    "y = df['Class']"
   ]
  },
  {
   "cell_type": "markdown",
   "id": "5ac53b5d-6d3f-489d-a809-582e058ab258",
   "metadata": {},
   "source": [
    "### (3). train, test data set 분리하기"
   ]
  },
  {
   "cell_type": "code",
   "execution_count": 3,
   "id": "77d6c52d-7ed3-4ff0-baef-d7831a30dc88",
   "metadata": {},
   "outputs": [],
   "source": [
    "from sklearn.model_selection import train_test_split\n",
    "\n",
    "X_train, X_test, y_train, y_test = train_test_split(X, y,test_size=0.25,random_state=0)"
   ]
  },
  {
   "cell_type": "markdown",
   "id": "2f4a74cd-9ad4-4015-a846-998d6b62c247",
   "metadata": {},
   "source": [
    "### (4). 머신러닝 분류 수행 및 평가"
   ]
  },
  {
   "cell_type": "code",
   "execution_count": 4,
   "id": "fa5fff40-e990-4b65-9806-e7f9cf6a5727",
   "metadata": {},
   "outputs": [
    {
     "name": "stdout",
     "output_type": "stream",
     "text": [
      "모델 이름 =  SVC , 모델 accuracy_score =  0.8133333333333334\n",
      "confusion_matrix =  [[ 83  32]\n",
      " [ 10 100]]\n",
      "모델 이름 =  LR , 모델 accuracy_score =  0.8844444444444445\n",
      "confusion_matrix =  [[ 98  17]\n",
      " [  9 101]]\n",
      "모델 이름 =  RF , 모델 accuracy_score =  0.8711111111111111\n",
      "confusion_matrix =  [[98 17]\n",
      " [12 98]]\n",
      "모델 이름 =  DT , 모델 accuracy_score =  0.7955555555555556\n",
      "confusion_matrix =  [[92 23]\n",
      " [23 87]]\n",
      "모델 이름 =  KNN , 모델 accuracy_score =  0.8088888888888889\n",
      "confusion_matrix =  [[87 28]\n",
      " [15 95]]\n"
     ]
    }
   ],
   "source": [
    "\n",
    "# 라이브러리 불러오기\n",
    "from sklearn.svm import SVC # SVC\n",
    "from sklearn.linear_model import LogisticRegression # LR\n",
    "from sklearn.ensemble import RandomForestClassifier # RF\n",
    "from sklearn.tree import DecisionTreeClassifier # DT\n",
    "from sklearn.neighbors import KNeighborsClassifier # KNN\n",
    "from sklearn.metrics import accuracy_score\n",
    "from sklearn.metrics import confusion_matrix\n",
    "\n",
    "# 모델들을 list를 통해 model에 입력\n",
    "model = [SVC(random_state=0), LogisticRegression(random_state=0), \n",
    "         RandomForestClassifier(random_state=0), DecisionTreeClassifier(random_state=0), KNeighborsClassifier()]\n",
    "\n",
    "# print 할때 모델들 구분을 위해 모델 이름을 적은 list 생성\n",
    "model_name = [\"SVC\", \"LR\", \"RF\", \"DT\", \"KNN\"]\n",
    "\n",
    "# for문을 통해 model에 저장된 각 요소들을 idk에는 index, function에는 model들을 차례로 넣는다.\n",
    "# 반복될 때마다 new_model에 SVC, LR, RF, DT, KNN 모델들이 각각 들어가서 훈련을 하고 각 모델 별로 점수를 측정한다.\n",
    "for idk, function in enumerate(model):\n",
    "    new_model = function\n",
    "    new_model.fit(X_train, y_train)\n",
    "    pred = new_model.predict(X_test)\n",
    "    print(\"모델 이름 = \", model_name[idk], \", 모델 accuracy_score = \", accuracy_score(y_test,pred))\n",
    "    print (\"confusion_matrix = \", confusion_matrix(y_test, pred))"
   ]
  },
  {
   "cell_type": "markdown",
   "id": "6774b8a7-dc07-4c54-9dfb-96c5c236225d",
   "metadata": {},
   "source": [
    "## 2. 딥러닝 분류 "
   ]
  },
  {
   "cell_type": "markdown",
   "id": "e3e4a518-5dee-44f7-a282-74f77e7c10cf",
   "metadata": {},
   "source": [
    "### (1). 데이터 불러오기"
   ]
  },
  {
   "cell_type": "code",
   "execution_count": 5,
   "id": "c9227add-1238-4f35-9ef8-f8dc5f3ac464",
   "metadata": {},
   "outputs": [
    {
     "data": {
      "text/html": [
       "<div>\n",
       "<style scoped>\n",
       "    .dataframe tbody tr th:only-of-type {\n",
       "        vertical-align: middle;\n",
       "    }\n",
       "\n",
       "    .dataframe tbody tr th {\n",
       "        vertical-align: top;\n",
       "    }\n",
       "\n",
       "    .dataframe thead th {\n",
       "        text-align: right;\n",
       "    }\n",
       "</style>\n",
       "<table border=\"1\" class=\"dataframe\">\n",
       "  <thead>\n",
       "    <tr style=\"text-align: right;\">\n",
       "      <th></th>\n",
       "      <th>MajorAxisLength</th>\n",
       "      <th>MinorAxisLength</th>\n",
       "      <th>Eccentricity</th>\n",
       "      <th>ConvexArea</th>\n",
       "      <th>Extent</th>\n",
       "      <th>Perimeter</th>\n",
       "      <th>Class</th>\n",
       "    </tr>\n",
       "    <tr>\n",
       "      <th>Area</th>\n",
       "      <th></th>\n",
       "      <th></th>\n",
       "      <th></th>\n",
       "      <th></th>\n",
       "      <th></th>\n",
       "      <th></th>\n",
       "      <th></th>\n",
       "    </tr>\n",
       "  </thead>\n",
       "  <tbody>\n",
       "    <tr>\n",
       "      <th>87524</th>\n",
       "      <td>442.246011</td>\n",
       "      <td>253.291155</td>\n",
       "      <td>0.819738</td>\n",
       "      <td>90546</td>\n",
       "      <td>0.758651</td>\n",
       "      <td>1184.040</td>\n",
       "      <td>Kecimen</td>\n",
       "    </tr>\n",
       "    <tr>\n",
       "      <th>75166</th>\n",
       "      <td>406.690687</td>\n",
       "      <td>243.032436</td>\n",
       "      <td>0.801805</td>\n",
       "      <td>78789</td>\n",
       "      <td>0.684130</td>\n",
       "      <td>1121.786</td>\n",
       "      <td>Kecimen</td>\n",
       "    </tr>\n",
       "    <tr>\n",
       "      <th>90856</th>\n",
       "      <td>442.267048</td>\n",
       "      <td>266.328318</td>\n",
       "      <td>0.798354</td>\n",
       "      <td>93717</td>\n",
       "      <td>0.637613</td>\n",
       "      <td>1208.575</td>\n",
       "      <td>Kecimen</td>\n",
       "    </tr>\n",
       "    <tr>\n",
       "      <th>45928</th>\n",
       "      <td>286.540559</td>\n",
       "      <td>208.760042</td>\n",
       "      <td>0.684989</td>\n",
       "      <td>47336</td>\n",
       "      <td>0.699599</td>\n",
       "      <td>844.162</td>\n",
       "      <td>Kecimen</td>\n",
       "    </tr>\n",
       "    <tr>\n",
       "      <th>79408</th>\n",
       "      <td>352.190770</td>\n",
       "      <td>290.827533</td>\n",
       "      <td>0.564011</td>\n",
       "      <td>81463</td>\n",
       "      <td>0.792772</td>\n",
       "      <td>1073.251</td>\n",
       "      <td>Kecimen</td>\n",
       "    </tr>\n",
       "    <tr>\n",
       "      <th>...</th>\n",
       "      <td>...</td>\n",
       "      <td>...</td>\n",
       "      <td>...</td>\n",
       "      <td>...</td>\n",
       "      <td>...</td>\n",
       "      <td>...</td>\n",
       "      <td>...</td>\n",
       "    </tr>\n",
       "    <tr>\n",
       "      <th>83248</th>\n",
       "      <td>430.077308</td>\n",
       "      <td>247.838695</td>\n",
       "      <td>0.817263</td>\n",
       "      <td>85839</td>\n",
       "      <td>0.668793</td>\n",
       "      <td>1129.072</td>\n",
       "      <td>Besni</td>\n",
       "    </tr>\n",
       "    <tr>\n",
       "      <th>87350</th>\n",
       "      <td>440.735698</td>\n",
       "      <td>259.293149</td>\n",
       "      <td>0.808629</td>\n",
       "      <td>90899</td>\n",
       "      <td>0.636476</td>\n",
       "      <td>1214.252</td>\n",
       "      <td>Besni</td>\n",
       "    </tr>\n",
       "    <tr>\n",
       "      <th>99657</th>\n",
       "      <td>431.706981</td>\n",
       "      <td>298.837323</td>\n",
       "      <td>0.721684</td>\n",
       "      <td>106264</td>\n",
       "      <td>0.741099</td>\n",
       "      <td>1292.828</td>\n",
       "      <td>Besni</td>\n",
       "    </tr>\n",
       "    <tr>\n",
       "      <th>93523</th>\n",
       "      <td>476.344094</td>\n",
       "      <td>254.176054</td>\n",
       "      <td>0.845739</td>\n",
       "      <td>97653</td>\n",
       "      <td>0.658798</td>\n",
       "      <td>1258.548</td>\n",
       "      <td>Besni</td>\n",
       "    </tr>\n",
       "    <tr>\n",
       "      <th>85609</th>\n",
       "      <td>512.081774</td>\n",
       "      <td>215.271976</td>\n",
       "      <td>0.907345</td>\n",
       "      <td>89197</td>\n",
       "      <td>0.632020</td>\n",
       "      <td>1272.862</td>\n",
       "      <td>Besni</td>\n",
       "    </tr>\n",
       "  </tbody>\n",
       "</table>\n",
       "<p>900 rows × 7 columns</p>\n",
       "</div>"
      ],
      "text/plain": [
       "       MajorAxisLength  MinorAxisLength  Eccentricity  ConvexArea    Extent  \\\n",
       "Area                                                                          \n",
       "87524       442.246011       253.291155      0.819738       90546  0.758651   \n",
       "75166       406.690687       243.032436      0.801805       78789  0.684130   \n",
       "90856       442.267048       266.328318      0.798354       93717  0.637613   \n",
       "45928       286.540559       208.760042      0.684989       47336  0.699599   \n",
       "79408       352.190770       290.827533      0.564011       81463  0.792772   \n",
       "...                ...              ...           ...         ...       ...   \n",
       "83248       430.077308       247.838695      0.817263       85839  0.668793   \n",
       "87350       440.735698       259.293149      0.808629       90899  0.636476   \n",
       "99657       431.706981       298.837323      0.721684      106264  0.741099   \n",
       "93523       476.344094       254.176054      0.845739       97653  0.658798   \n",
       "85609       512.081774       215.271976      0.907345       89197  0.632020   \n",
       "\n",
       "       Perimeter    Class  \n",
       "Area                       \n",
       "87524   1184.040  Kecimen  \n",
       "75166   1121.786  Kecimen  \n",
       "90856   1208.575  Kecimen  \n",
       "45928    844.162  Kecimen  \n",
       "79408   1073.251  Kecimen  \n",
       "...          ...      ...  \n",
       "83248   1129.072    Besni  \n",
       "87350   1214.252    Besni  \n",
       "99657   1292.828    Besni  \n",
       "93523   1258.548    Besni  \n",
       "85609   1272.862    Besni  \n",
       "\n",
       "[900 rows x 7 columns]"
      ]
     },
     "execution_count": 5,
     "metadata": {},
     "output_type": "execute_result"
    }
   ],
   "source": [
    "import numpy as np\n",
    "import pandas as pd\n",
    "\n",
    "df2 = pd.read_excel(\"C:/dataset/Raisin_Dataset.xlsx\", index_col=0)\n",
    "df2"
   ]
  },
  {
   "cell_type": "markdown",
   "id": "e8ed6817-4c61-46af-992e-3528a4fe31dd",
   "metadata": {},
   "source": [
    "### (2). 데이터 프레임의 형태 확인하기"
   ]
  },
  {
   "cell_type": "code",
   "execution_count": 6,
   "id": "6a27d6a6-c9b8-4c68-aca4-0b1d3b0ddcec",
   "metadata": {},
   "outputs": [
    {
     "data": {
      "text/plain": [
       "(900, 7)"
      ]
     },
     "execution_count": 6,
     "metadata": {},
     "output_type": "execute_result"
    }
   ],
   "source": [
    "df2.shape"
   ]
  },
  {
   "cell_type": "markdown",
   "id": "7a84f840-d9e9-4665-aa84-c24d1efb117c",
   "metadata": {},
   "source": [
    "### (3). feature, target data set 분리"
   ]
  },
  {
   "cell_type": "code",
   "execution_count": 7,
   "id": "f7ed9c89-192a-4dee-8334-9f8e8dd81144",
   "metadata": {},
   "outputs": [],
   "source": [
    "X2 = df2.drop('Class', axis=1)\n",
    "y2 = df2['Class']"
   ]
  },
  {
   "cell_type": "markdown",
   "id": "20f88aff-6ed2-4fe2-b79b-59b5d83626eb",
   "metadata": {},
   "source": [
    "### (4). 원-핫 인코딩 수행"
   ]
  },
  {
   "cell_type": "code",
   "execution_count": 8,
   "id": "afee1872-b2ac-4860-ab76-744f027f0962",
   "metadata": {},
   "outputs": [],
   "source": [
    "Y2 = pd.get_dummies(y2).values"
   ]
  },
  {
   "cell_type": "markdown",
   "id": "7e7c5383-4d9f-4c88-95fa-aab9fe55de43",
   "metadata": {},
   "source": [
    "### (5). 딥너링 입력을 위해 numpy로 변환"
   ]
  },
  {
   "cell_type": "code",
   "execution_count": 9,
   "id": "6bc148fa-8791-4653-98c2-5dbf7c59ecf2",
   "metadata": {},
   "outputs": [],
   "source": [
    "X2 = X2.values"
   ]
  },
  {
   "cell_type": "markdown",
   "id": "6032affc-c20f-4eb1-8082-c87f09d2397c",
   "metadata": {},
   "source": [
    "### (6). test data set, train data set, val data set나누기"
   ]
  },
  {
   "cell_type": "code",
   "execution_count": 10,
   "id": "595f121e-c4c6-461d-a328-494afa6a939c",
   "metadata": {},
   "outputs": [],
   "source": [
    "from sklearn.model_selection import train_test_split\n",
    "# (train data set + val data set)와 test data set을 8:2로 나누기\n",
    "X_temp2, X_test2, y_temp2, y_test2 = train_test_split(X2,Y2,test_size=0.2,random_state=0) \n",
    "# train data set와 val data set 8:2로 나누기\n",
    "X_train2, X_val2, y_train2, y_val2 = train_test_split(X_temp2, y_temp2, test_size=0.2, random_state=42)"
   ]
  },
  {
   "cell_type": "markdown",
   "id": "aaeeaa56-4c7d-482d-8f6f-5329eb312d79",
   "metadata": {},
   "source": [
    "### (7). 모델 생성"
   ]
  },
  {
   "cell_type": "code",
   "execution_count": 11,
   "id": "bbbc221d-0132-4873-a472-807c63f32223",
   "metadata": {},
   "outputs": [
    {
     "name": "stderr",
     "output_type": "stream",
     "text": [
      "C:\\Users\\d\\anaconda3\\Lib\\site-packages\\keras\\src\\layers\\core\\dense.py:87: UserWarning: Do not pass an `input_shape`/`input_dim` argument to a layer. When using Sequential models, prefer using an `Input(shape)` object as the first layer in the model instead.\n",
      "  super().__init__(activity_regularizer=activity_regularizer, **kwargs)\n"
     ]
    },
    {
     "data": {
      "text/html": [
       "<pre style=\"white-space:pre;overflow-x:auto;line-height:normal;font-family:Menlo,'DejaVu Sans Mono',consolas,'Courier New',monospace\"><span style=\"font-weight: bold\">Model: \"sequential\"</span>\n",
       "</pre>\n"
      ],
      "text/plain": [
       "\u001b[1mModel: \"sequential\"\u001b[0m\n"
      ]
     },
     "metadata": {},
     "output_type": "display_data"
    },
    {
     "data": {
      "text/html": [
       "<pre style=\"white-space:pre;overflow-x:auto;line-height:normal;font-family:Menlo,'DejaVu Sans Mono',consolas,'Courier New',monospace\">┏━━━━━━━━━━━━━━━━━━━━━━━━━━━━━━━━━┳━━━━━━━━━━━━━━━━━━━━━━━━┳━━━━━━━━━━━━━━━┓\n",
       "┃<span style=\"font-weight: bold\"> Layer (type)                    </span>┃<span style=\"font-weight: bold\"> Output Shape           </span>┃<span style=\"font-weight: bold\">       Param # </span>┃\n",
       "┡━━━━━━━━━━━━━━━━━━━━━━━━━━━━━━━━━╇━━━━━━━━━━━━━━━━━━━━━━━━╇━━━━━━━━━━━━━━━┩\n",
       "│ dense (<span style=\"color: #0087ff; text-decoration-color: #0087ff\">Dense</span>)                   │ (<span style=\"color: #00d7ff; text-decoration-color: #00d7ff\">None</span>, <span style=\"color: #00af00; text-decoration-color: #00af00\">32</span>)             │           <span style=\"color: #00af00; text-decoration-color: #00af00\">224</span> │\n",
       "├─────────────────────────────────┼────────────────────────┼───────────────┤\n",
       "│ dense_1 (<span style=\"color: #0087ff; text-decoration-color: #0087ff\">Dense</span>)                 │ (<span style=\"color: #00d7ff; text-decoration-color: #00d7ff\">None</span>, <span style=\"color: #00af00; text-decoration-color: #00af00\">32</span>)             │         <span style=\"color: #00af00; text-decoration-color: #00af00\">1,056</span> │\n",
       "├─────────────────────────────────┼────────────────────────┼───────────────┤\n",
       "│ dense_2 (<span style=\"color: #0087ff; text-decoration-color: #0087ff\">Dense</span>)                 │ (<span style=\"color: #00d7ff; text-decoration-color: #00d7ff\">None</span>, <span style=\"color: #00af00; text-decoration-color: #00af00\">2</span>)              │            <span style=\"color: #00af00; text-decoration-color: #00af00\">66</span> │\n",
       "└─────────────────────────────────┴────────────────────────┴───────────────┘\n",
       "</pre>\n"
      ],
      "text/plain": [
       "┏━━━━━━━━━━━━━━━━━━━━━━━━━━━━━━━━━┳━━━━━━━━━━━━━━━━━━━━━━━━┳━━━━━━━━━━━━━━━┓\n",
       "┃\u001b[1m \u001b[0m\u001b[1mLayer (type)                   \u001b[0m\u001b[1m \u001b[0m┃\u001b[1m \u001b[0m\u001b[1mOutput Shape          \u001b[0m\u001b[1m \u001b[0m┃\u001b[1m \u001b[0m\u001b[1m      Param #\u001b[0m\u001b[1m \u001b[0m┃\n",
       "┡━━━━━━━━━━━━━━━━━━━━━━━━━━━━━━━━━╇━━━━━━━━━━━━━━━━━━━━━━━━╇━━━━━━━━━━━━━━━┩\n",
       "│ dense (\u001b[38;5;33mDense\u001b[0m)                   │ (\u001b[38;5;45mNone\u001b[0m, \u001b[38;5;34m32\u001b[0m)             │           \u001b[38;5;34m224\u001b[0m │\n",
       "├─────────────────────────────────┼────────────────────────┼───────────────┤\n",
       "│ dense_1 (\u001b[38;5;33mDense\u001b[0m)                 │ (\u001b[38;5;45mNone\u001b[0m, \u001b[38;5;34m32\u001b[0m)             │         \u001b[38;5;34m1,056\u001b[0m │\n",
       "├─────────────────────────────────┼────────────────────────┼───────────────┤\n",
       "│ dense_2 (\u001b[38;5;33mDense\u001b[0m)                 │ (\u001b[38;5;45mNone\u001b[0m, \u001b[38;5;34m2\u001b[0m)              │            \u001b[38;5;34m66\u001b[0m │\n",
       "└─────────────────────────────────┴────────────────────────┴───────────────┘\n"
      ]
     },
     "metadata": {},
     "output_type": "display_data"
    },
    {
     "data": {
      "text/html": [
       "<pre style=\"white-space:pre;overflow-x:auto;line-height:normal;font-family:Menlo,'DejaVu Sans Mono',consolas,'Courier New',monospace\"><span style=\"font-weight: bold\"> Total params: </span><span style=\"color: #00af00; text-decoration-color: #00af00\">1,346</span> (5.26 KB)\n",
       "</pre>\n"
      ],
      "text/plain": [
       "\u001b[1m Total params: \u001b[0m\u001b[38;5;34m1,346\u001b[0m (5.26 KB)\n"
      ]
     },
     "metadata": {},
     "output_type": "display_data"
    },
    {
     "data": {
      "text/html": [
       "<pre style=\"white-space:pre;overflow-x:auto;line-height:normal;font-family:Menlo,'DejaVu Sans Mono',consolas,'Courier New',monospace\"><span style=\"font-weight: bold\"> Trainable params: </span><span style=\"color: #00af00; text-decoration-color: #00af00\">1,346</span> (5.26 KB)\n",
       "</pre>\n"
      ],
      "text/plain": [
       "\u001b[1m Trainable params: \u001b[0m\u001b[38;5;34m1,346\u001b[0m (5.26 KB)\n"
      ]
     },
     "metadata": {},
     "output_type": "display_data"
    },
    {
     "data": {
      "text/html": [
       "<pre style=\"white-space:pre;overflow-x:auto;line-height:normal;font-family:Menlo,'DejaVu Sans Mono',consolas,'Courier New',monospace\"><span style=\"font-weight: bold\"> Non-trainable params: </span><span style=\"color: #00af00; text-decoration-color: #00af00\">0</span> (0.00 B)\n",
       "</pre>\n"
      ],
      "text/plain": [
       "\u001b[1m Non-trainable params: \u001b[0m\u001b[38;5;34m0\u001b[0m (0.00 B)\n"
      ]
     },
     "metadata": {},
     "output_type": "display_data"
    }
   ],
   "source": [
    "# 라이브러리 import\n",
    "from keras.models import Sequential\n",
    "from keras.layers import Dense\n",
    "\n",
    "# 순차모델 생성\n",
    "model = Sequential() \n",
    "\n",
    "model.add(Dense(32,input_shape=(6,),activation='relu'))  # 입력에 들어가는 데이터는 6개이므로 input_shape는 6\n",
    "model.add(Dense(32,activation='relu')) \n",
    "model.add(Dense(2,activation='softmax')) # 원-핫 인코딩으로 변경된 점에 맞추기 위해 노드 2개, softmax 사용\n",
    "# model.add(Dense(1,activation='sigmoid')) # 이진 분류 이므로 sigmoid 사용\n",
    "model.compile(optimizer='rmsprop', loss='categorical_crossentropy', metrics=['accuracy']) \n",
    "\n",
    "# model.compile(optimizer='rmsprop', loss='binary_crossentropy', metrics=['accuracy'])  # 이진 분류이므로 binary_crossentropy 사용\n",
    "\n",
    "model.summary() # 모델 정보 확인"
   ]
  },
  {
   "cell_type": "code",
   "execution_count": 12,
   "id": "8bcf1431-6c63-4211-9fbe-e503d6d24f51",
   "metadata": {},
   "outputs": [
    {
     "name": "stdout",
     "output_type": "stream",
     "text": [
      "Epoch 1/30\n",
      "\u001b[1m18/18\u001b[0m \u001b[32m━━━━━━━━━━━━━━━━━━━━\u001b[0m\u001b[37m\u001b[0m \u001b[1m2s\u001b[0m 21ms/step - accuracy: 0.4909 - loss: 1243.2457 - val_accuracy: 0.5208 - val_loss: 297.6567\n",
      "Epoch 2/30\n",
      "\u001b[1m18/18\u001b[0m \u001b[32m━━━━━━━━━━━━━━━━━━━━\u001b[0m\u001b[37m\u001b[0m \u001b[1m0s\u001b[0m 3ms/step - accuracy: 0.4970 - loss: 446.4361 - val_accuracy: 0.5208 - val_loss: 292.8009\n",
      "Epoch 3/30\n",
      "\u001b[1m18/18\u001b[0m \u001b[32m━━━━━━━━━━━━━━━━━━━━\u001b[0m\u001b[37m\u001b[0m \u001b[1m0s\u001b[0m 4ms/step - accuracy: 0.4549 - loss: 588.4407 - val_accuracy: 0.5208 - val_loss: 499.0993\n",
      "Epoch 4/30\n",
      "\u001b[1m18/18\u001b[0m \u001b[32m━━━━━━━━━━━━━━━━━━━━\u001b[0m\u001b[37m\u001b[0m \u001b[1m0s\u001b[0m 4ms/step - accuracy: 0.4779 - loss: 445.8387 - val_accuracy: 0.4792 - val_loss: 545.4078\n",
      "Epoch 5/30\n",
      "\u001b[1m18/18\u001b[0m \u001b[32m━━━━━━━━━━━━━━━━━━━━\u001b[0m\u001b[37m\u001b[0m \u001b[1m0s\u001b[0m 5ms/step - accuracy: 0.4883 - loss: 518.8122 - val_accuracy: 0.1944 - val_loss: 57.1989\n",
      "Epoch 6/30\n",
      "\u001b[1m18/18\u001b[0m \u001b[32m━━━━━━━━━━━━━━━━━━━━\u001b[0m\u001b[37m\u001b[0m \u001b[1m0s\u001b[0m 5ms/step - accuracy: 0.4577 - loss: 358.1865 - val_accuracy: 0.5208 - val_loss: 188.2732\n",
      "Epoch 7/30\n",
      "\u001b[1m18/18\u001b[0m \u001b[32m━━━━━━━━━━━━━━━━━━━━\u001b[0m\u001b[37m\u001b[0m \u001b[1m0s\u001b[0m 5ms/step - accuracy: 0.4872 - loss: 420.0281 - val_accuracy: 0.5208 - val_loss: 497.8134\n",
      "Epoch 8/30\n",
      "\u001b[1m18/18\u001b[0m \u001b[32m━━━━━━━━━━━━━━━━━━━━\u001b[0m\u001b[37m\u001b[0m \u001b[1m0s\u001b[0m 4ms/step - accuracy: 0.5226 - loss: 436.5294 - val_accuracy: 0.5208 - val_loss: 471.0983\n",
      "Epoch 9/30\n",
      "\u001b[1m18/18\u001b[0m \u001b[32m━━━━━━━━━━━━━━━━━━━━\u001b[0m\u001b[37m\u001b[0m \u001b[1m0s\u001b[0m 4ms/step - accuracy: 0.5414 - loss: 393.9662 - val_accuracy: 0.5208 - val_loss: 458.3450\n",
      "Epoch 10/30\n",
      "\u001b[1m18/18\u001b[0m \u001b[32m━━━━━━━━━━━━━━━━━━━━\u001b[0m\u001b[37m\u001b[0m \u001b[1m0s\u001b[0m 6ms/step - accuracy: 0.5109 - loss: 438.8429 - val_accuracy: 0.5208 - val_loss: 523.5374\n",
      "Epoch 11/30\n",
      "\u001b[1m18/18\u001b[0m \u001b[32m━━━━━━━━━━━━━━━━━━━━\u001b[0m\u001b[37m\u001b[0m \u001b[1m0s\u001b[0m 5ms/step - accuracy: 0.4781 - loss: 436.5643 - val_accuracy: 0.5208 - val_loss: 214.5824\n",
      "Epoch 12/30\n",
      "\u001b[1m18/18\u001b[0m \u001b[32m━━━━━━━━━━━━━━━━━━━━\u001b[0m\u001b[37m\u001b[0m \u001b[1m0s\u001b[0m 5ms/step - accuracy: 0.4934 - loss: 438.5981 - val_accuracy: 0.5208 - val_loss: 363.3429\n",
      "Epoch 13/30\n",
      "\u001b[1m18/18\u001b[0m \u001b[32m━━━━━━━━━━━━━━━━━━━━\u001b[0m\u001b[37m\u001b[0m \u001b[1m0s\u001b[0m 4ms/step - accuracy: 0.5046 - loss: 423.4094 - val_accuracy: 0.5208 - val_loss: 572.0746\n",
      "Epoch 14/30\n",
      "\u001b[1m18/18\u001b[0m \u001b[32m━━━━━━━━━━━━━━━━━━━━\u001b[0m\u001b[37m\u001b[0m \u001b[1m0s\u001b[0m 4ms/step - accuracy: 0.4641 - loss: 515.9255 - val_accuracy: 0.5208 - val_loss: 643.1791\n",
      "Epoch 15/30\n",
      "\u001b[1m18/18\u001b[0m \u001b[32m━━━━━━━━━━━━━━━━━━━━\u001b[0m\u001b[37m\u001b[0m \u001b[1m0s\u001b[0m 4ms/step - accuracy: 0.4826 - loss: 482.1972 - val_accuracy: 0.5208 - val_loss: 613.3555\n",
      "Epoch 16/30\n",
      "\u001b[1m18/18\u001b[0m \u001b[32m━━━━━━━━━━━━━━━━━━━━\u001b[0m\u001b[37m\u001b[0m \u001b[1m0s\u001b[0m 4ms/step - accuracy: 0.4702 - loss: 495.4534 - val_accuracy: 0.5208 - val_loss: 629.2620\n",
      "Epoch 17/30\n",
      "\u001b[1m18/18\u001b[0m \u001b[32m━━━━━━━━━━━━━━━━━━━━\u001b[0m\u001b[37m\u001b[0m \u001b[1m0s\u001b[0m 5ms/step - accuracy: 0.4738 - loss: 463.2112 - val_accuracy: 0.5208 - val_loss: 77.6305\n",
      "Epoch 18/30\n",
      "\u001b[1m18/18\u001b[0m \u001b[32m━━━━━━━━━━━━━━━━━━━━\u001b[0m\u001b[37m\u001b[0m \u001b[1m0s\u001b[0m 9ms/step - accuracy: 0.5205 - loss: 343.3004 - val_accuracy: 0.5208 - val_loss: 268.7065\n",
      "Epoch 19/30\n",
      "\u001b[1m18/18\u001b[0m \u001b[32m━━━━━━━━━━━━━━━━━━━━\u001b[0m\u001b[37m\u001b[0m \u001b[1m0s\u001b[0m 6ms/step - accuracy: 0.4628 - loss: 428.6434 - val_accuracy: 0.5208 - val_loss: 719.7224\n",
      "Epoch 20/30\n",
      "\u001b[1m18/18\u001b[0m \u001b[32m━━━━━━━━━━━━━━━━━━━━\u001b[0m\u001b[37m\u001b[0m \u001b[1m0s\u001b[0m 6ms/step - accuracy: 0.4965 - loss: 431.7470 - val_accuracy: 0.5208 - val_loss: 399.4222\n",
      "Epoch 21/30\n",
      "\u001b[1m18/18\u001b[0m \u001b[32m━━━━━━━━━━━━━━━━━━━━\u001b[0m\u001b[37m\u001b[0m \u001b[1m0s\u001b[0m 6ms/step - accuracy: 0.4405 - loss: 458.6292 - val_accuracy: 0.4792 - val_loss: 495.9686\n",
      "Epoch 22/30\n",
      "\u001b[1m18/18\u001b[0m \u001b[32m━━━━━━━━━━━━━━━━━━━━\u001b[0m\u001b[37m\u001b[0m \u001b[1m0s\u001b[0m 7ms/step - accuracy: 0.4847 - loss: 421.9384 - val_accuracy: 0.4792 - val_loss: 282.2513\n",
      "Epoch 23/30\n",
      "\u001b[1m18/18\u001b[0m \u001b[32m━━━━━━━━━━━━━━━━━━━━\u001b[0m\u001b[37m\u001b[0m \u001b[1m0s\u001b[0m 6ms/step - accuracy: 0.5134 - loss: 384.8806 - val_accuracy: 0.4792 - val_loss: 319.9267\n",
      "Epoch 24/30\n",
      "\u001b[1m18/18\u001b[0m \u001b[32m━━━━━━━━━━━━━━━━━━━━\u001b[0m\u001b[37m\u001b[0m \u001b[1m0s\u001b[0m 9ms/step - accuracy: 0.5144 - loss: 376.4077 - val_accuracy: 0.4792 - val_loss: 557.5314\n",
      "Epoch 25/30\n",
      "\u001b[1m18/18\u001b[0m \u001b[32m━━━━━━━━━━━━━━━━━━━━\u001b[0m\u001b[37m\u001b[0m \u001b[1m0s\u001b[0m 7ms/step - accuracy: 0.4796 - loss: 452.4883 - val_accuracy: 0.4792 - val_loss: 511.9769\n",
      "Epoch 26/30\n",
      "\u001b[1m18/18\u001b[0m \u001b[32m━━━━━━━━━━━━━━━━━━━━\u001b[0m\u001b[37m\u001b[0m \u001b[1m0s\u001b[0m 7ms/step - accuracy: 0.4468 - loss: 503.5134 - val_accuracy: 0.4792 - val_loss: 190.8827\n",
      "Epoch 27/30\n",
      "\u001b[1m18/18\u001b[0m \u001b[32m━━━━━━━━━━━━━━━━━━━━\u001b[0m\u001b[37m\u001b[0m \u001b[1m0s\u001b[0m 8ms/step - accuracy: 0.5152 - loss: 379.0163 - val_accuracy: 0.4792 - val_loss: 393.8350\n",
      "Epoch 28/30\n",
      "\u001b[1m18/18\u001b[0m \u001b[32m━━━━━━━━━━━━━━━━━━━━\u001b[0m\u001b[37m\u001b[0m \u001b[1m0s\u001b[0m 6ms/step - accuracy: 0.4631 - loss: 409.8232 - val_accuracy: 0.5208 - val_loss: 496.1445\n",
      "Epoch 29/30\n",
      "\u001b[1m18/18\u001b[0m \u001b[32m━━━━━━━━━━━━━━━━━━━━\u001b[0m\u001b[37m\u001b[0m \u001b[1m0s\u001b[0m 5ms/step - accuracy: 0.4865 - loss: 407.5522 - val_accuracy: 0.5208 - val_loss: 362.2476\n",
      "Epoch 30/30\n",
      "\u001b[1m18/18\u001b[0m \u001b[32m━━━━━━━━━━━━━━━━━━━━\u001b[0m\u001b[37m\u001b[0m \u001b[1m0s\u001b[0m 5ms/step - accuracy: 0.4822 - loss: 350.2471 - val_accuracy: 0.4792 - val_loss: 120.7792\n",
      "\u001b[1m6/6\u001b[0m \u001b[32m━━━━━━━━━━━━━━━━━━━━\u001b[0m\u001b[37m\u001b[0m \u001b[1m0s\u001b[0m 3ms/step - accuracy: 0.4467 - loss: 134.2379 \n",
      "테스트 정확도 : 0.4611110985279083\n"
     ]
    }
   ],
   "source": [
    "model_history=model.fit(x=X_train2, y=y_train2, epochs=30, batch_size=32, validation_data=(X_val2, y_val2))\n",
    "\n",
    "# 모델 평가\n",
    "test_loss, test_acc = model.evaluate(X_test2, y_test2)\n",
    "print(f\"테스트 정확도 : {test_acc}\")"
   ]
  }
 ],
 "metadata": {
  "kernelspec": {
   "display_name": "Python 3 (ipykernel)",
   "language": "python",
   "name": "python3"
  },
  "language_info": {
   "codemirror_mode": {
    "name": "ipython",
    "version": 3
   },
   "file_extension": ".py",
   "mimetype": "text/x-python",
   "name": "python",
   "nbconvert_exporter": "python",
   "pygments_lexer": "ipython3",
   "version": "3.11.7"
  }
 },
 "nbformat": 4,
 "nbformat_minor": 5
}
